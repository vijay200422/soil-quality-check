{
 "cells": [
  {
   "cell_type": "code",
   "execution_count": 1,
   "id": "1544ba34-9e3f-404e-b7e3-360f25cb2cf9",
   "metadata": {},
   "outputs": [
    {
     "name": "stdout",
     "output_type": "stream",
     "text": [
      "    pH  Nitrogen  Phosphorus  Potassium  Organic_Carbon Soil_Type\n",
      "0  6.5        50          30         20             1.2     Loamy\n",
      "1  7.0        40          25         15             1.0     Sandy\n",
      "2  5.5        60          35         25             1.5      Clay\n",
      "3  6.8        55          28         18             1.3     Loamy\n",
      "4  7.2        45          20         10             0.8     Sandy\n",
      "Model Accuracy: 0.00%\n"
     ]
    },
    {
     "data": {
      "text/plain": [
       "['soil_quality_model.pkl']"
      ]
     },
     "execution_count": 1,
     "metadata": {},
     "output_type": "execute_result"
    }
   ],
   "source": [
    "# Import necessary libraries\n",
    "import pandas as pd\n",
    "import numpy as np\n",
    "from sklearn.model_selection import train_test_split\n",
    "from sklearn.ensemble import RandomForestClassifier\n",
    "from sklearn.metrics import accuracy_score\n",
    "\n",
    "# Load the dataset\n",
    "data = pd.read_csv('D:/Deekshith project/soil_data.csv')\n",
    "\n",
    "# Display the first few rows of the dataset\n",
    "print(data.head())\n",
    "\n",
    "# Split the dataset into features and target\n",
    "X = data[['pH', 'Nitrogen', 'Phosphorus', 'Potassium', 'Organic_Carbon']]\n",
    "y = data['Soil_Type']\n",
    "\n",
    "# Split the data into training and testing sets\n",
    "X_train, X_test, y_train, y_test = train_test_split(X, y, test_size=0.2, random_state=42)\n",
    "\n",
    "# Train a Random Forest Classifier\n",
    "model = RandomForestClassifier(random_state=42)\n",
    "model.fit(X_train, y_train)\n",
    "\n",
    "# Test the model\n",
    "y_pred = model.predict(X_test)\n",
    "accuracy = accuracy_score(y_test, y_pred)\n",
    "print(f\"Model Accuracy: {accuracy * 100:.2f}%\")\n",
    "\n",
    "# Save the model using joblib\n",
    "import joblib\n",
    "joblib.dump(model, 'soil_quality_model.pkl')\n"
   ]
  },
  {
   "cell_type": "code",
   "execution_count": null,
   "id": "c032f085-5e7b-4cbc-8407-10fb558d36f3",
   "metadata": {},
   "outputs": [],
   "source": []
  }
 ],
 "metadata": {
  "kernelspec": {
   "display_name": "Python 3 (ipykernel)",
   "language": "python",
   "name": "python3"
  },
  "language_info": {
   "codemirror_mode": {
    "name": "ipython",
    "version": 3
   },
   "file_extension": ".py",
   "mimetype": "text/x-python",
   "name": "python",
   "nbconvert_exporter": "python",
   "pygments_lexer": "ipython3",
   "version": "3.12.7"
  }
 },
 "nbformat": 4,
 "nbformat_minor": 5
}
